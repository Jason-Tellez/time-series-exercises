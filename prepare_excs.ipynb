{
 "cells": [
  {
   "cell_type": "code",
   "execution_count": 1,
   "id": "86d9d7e1",
   "metadata": {},
   "outputs": [],
   "source": [
    "import pandas as pd\n",
    "import numpy as np\n",
    "import requests\n",
    "\n",
    "from datetime import timedelta, datetime\n",
    "\n",
    "import seaborn as sns\n",
    "import matplotlib.pyplot as plt\n",
    "\n",
    "# no yelling in the library\n",
    "import warnings\n",
    "warnings.filterwarnings(\"ignore\")\n",
    "\n",
    "import acquire as a"
   ]
  },
  {
   "cell_type": "markdown",
   "id": "31e3940f",
   "metadata": {},
   "source": [
    "## Exercises\n",
    "\n",
    "The end result of this exercise should be a file named `prepare.py`.\n",
    "\n",
    "Using your store items data:\n",
    "\n",
    "1. Convert date column to datetime format.  \n",
    "1. Plot the distribution of `sale_amount` and `item_price`.  \n",
    "1. Set the index to be the datetime variable.\n",
    "1. Add a 'month' and 'day of week' column to your dataframe.\n",
    "1. Add a column to your dataframe, `sales_total`, which is a derived from `sale_amount` (total items) and `item_price`.  \n",
    "1. Make sure all the work that you have done above is reproducible. That is, you should put the code above into separate functions and be able to re-run the functions and get the same results."
   ]
  },
  {
   "cell_type": "code",
   "execution_count": 2,
   "id": "f1f867df",
   "metadata": {},
   "outputs": [],
   "source": [
    "df = pd.read_csv('retail_df.csv')"
   ]
  },
  {
   "cell_type": "code",
   "execution_count": 3,
   "id": "4161e00e",
   "metadata": {
    "scrolled": false
   },
   "outputs": [
    {
     "data": {
      "text/html": [
       "<div>\n",
       "<style scoped>\n",
       "    .dataframe tbody tr th:only-of-type {\n",
       "        vertical-align: middle;\n",
       "    }\n",
       "\n",
       "    .dataframe tbody tr th {\n",
       "        vertical-align: top;\n",
       "    }\n",
       "\n",
       "    .dataframe thead th {\n",
       "        text-align: right;\n",
       "    }\n",
       "</style>\n",
       "<table border=\"1\" class=\"dataframe\">\n",
       "  <thead>\n",
       "    <tr style=\"text-align: right;\">\n",
       "      <th></th>\n",
       "      <th>Unnamed: 0</th>\n",
       "      <th>item_brand</th>\n",
       "      <th>item_id</th>\n",
       "      <th>item_name</th>\n",
       "      <th>item_price</th>\n",
       "      <th>item_upc12</th>\n",
       "      <th>item_upc14</th>\n",
       "      <th>item</th>\n",
       "      <th>sale_amount</th>\n",
       "      <th>sale_date</th>\n",
       "      <th>sale_id</th>\n",
       "      <th>store</th>\n",
       "      <th>store_address</th>\n",
       "      <th>store_city</th>\n",
       "      <th>store_id</th>\n",
       "      <th>store_state</th>\n",
       "      <th>store_zipcode</th>\n",
       "    </tr>\n",
       "  </thead>\n",
       "  <tbody>\n",
       "    <tr>\n",
       "      <th>0</th>\n",
       "      <td>0</td>\n",
       "      <td>Riceland</td>\n",
       "      <td>1</td>\n",
       "      <td>Riceland American Jazmine Rice</td>\n",
       "      <td>0.84</td>\n",
       "      <td>35200264013</td>\n",
       "      <td>35200264013</td>\n",
       "      <td>1</td>\n",
       "      <td>13.0</td>\n",
       "      <td>Tue, 01 Jan 2013 00:00:00 GMT</td>\n",
       "      <td>1</td>\n",
       "      <td>1</td>\n",
       "      <td>12125 Alamo Ranch Pkwy</td>\n",
       "      <td>San Antonio</td>\n",
       "      <td>1</td>\n",
       "      <td>TX</td>\n",
       "      <td>78253</td>\n",
       "    </tr>\n",
       "    <tr>\n",
       "      <th>1</th>\n",
       "      <td>1</td>\n",
       "      <td>Riceland</td>\n",
       "      <td>1</td>\n",
       "      <td>Riceland American Jazmine Rice</td>\n",
       "      <td>0.84</td>\n",
       "      <td>35200264013</td>\n",
       "      <td>35200264013</td>\n",
       "      <td>1</td>\n",
       "      <td>11.0</td>\n",
       "      <td>Wed, 02 Jan 2013 00:00:00 GMT</td>\n",
       "      <td>2</td>\n",
       "      <td>1</td>\n",
       "      <td>12125 Alamo Ranch Pkwy</td>\n",
       "      <td>San Antonio</td>\n",
       "      <td>1</td>\n",
       "      <td>TX</td>\n",
       "      <td>78253</td>\n",
       "    </tr>\n",
       "  </tbody>\n",
       "</table>\n",
       "</div>"
      ],
      "text/plain": [
       "   Unnamed: 0 item_brand  item_id                       item_name  item_price  \\\n",
       "0           0   Riceland        1  Riceland American Jazmine Rice        0.84   \n",
       "1           1   Riceland        1  Riceland American Jazmine Rice        0.84   \n",
       "\n",
       "    item_upc12   item_upc14  item  sale_amount                      sale_date  \\\n",
       "0  35200264013  35200264013     1         13.0  Tue, 01 Jan 2013 00:00:00 GMT   \n",
       "1  35200264013  35200264013     1         11.0  Wed, 02 Jan 2013 00:00:00 GMT   \n",
       "\n",
       "   sale_id  store           store_address   store_city  store_id store_state  \\\n",
       "0        1      1  12125 Alamo Ranch Pkwy  San Antonio         1          TX   \n",
       "1        2      1  12125 Alamo Ranch Pkwy  San Antonio         1          TX   \n",
       "\n",
       "   store_zipcode  \n",
       "0          78253  \n",
       "1          78253  "
      ]
     },
     "execution_count": 3,
     "metadata": {},
     "output_type": "execute_result"
    }
   ],
   "source": [
    "df.head(2)"
   ]
  },
  {
   "cell_type": "code",
   "execution_count": 4,
   "id": "f3247cc8",
   "metadata": {},
   "outputs": [
    {
     "name": "stdout",
     "output_type": "stream",
     "text": [
      "<class 'pandas.core.frame.DataFrame'>\n",
      "RangeIndex: 913000 entries, 0 to 912999\n",
      "Data columns (total 17 columns):\n",
      " #   Column         Non-Null Count   Dtype  \n",
      "---  ------         --------------   -----  \n",
      " 0   Unnamed: 0     913000 non-null  int64  \n",
      " 1   item_brand     913000 non-null  object \n",
      " 2   item_id        913000 non-null  int64  \n",
      " 3   item_name      913000 non-null  object \n",
      " 4   item_price     913000 non-null  float64\n",
      " 5   item_upc12     913000 non-null  int64  \n",
      " 6   item_upc14     913000 non-null  int64  \n",
      " 7   item           913000 non-null  int64  \n",
      " 8   sale_amount    913000 non-null  float64\n",
      " 9   sale_date      913000 non-null  object \n",
      " 10  sale_id        913000 non-null  int64  \n",
      " 11  store          913000 non-null  int64  \n",
      " 12  store_address  913000 non-null  object \n",
      " 13  store_city     913000 non-null  object \n",
      " 14  store_id       913000 non-null  int64  \n",
      " 15  store_state    913000 non-null  object \n",
      " 16  store_zipcode  913000 non-null  int64  \n",
      "dtypes: float64(2), int64(9), object(6)\n",
      "memory usage: 118.4+ MB\n"
     ]
    }
   ],
   "source": [
    "df.info()"
   ]
  },
  {
   "cell_type": "code",
   "execution_count": 5,
   "id": "27a38c8b",
   "metadata": {},
   "outputs": [],
   "source": [
    "df.drop(columns=['Unnamed: 0', 'item', 'store'], inplace=True)"
   ]
  },
  {
   "cell_type": "code",
   "execution_count": 6,
   "id": "ff2d6fac",
   "metadata": {
    "scrolled": true
   },
   "outputs": [],
   "source": [
    "# set sale_date column to datetime format\n",
    "df.sale_date = pd.to_datetime(df.sale_date)"
   ]
  },
  {
   "cell_type": "code",
   "execution_count": 7,
   "id": "ad844df8",
   "metadata": {},
   "outputs": [
    {
     "data": {
      "text/plain": [
       "<AxesSubplot:>"
      ]
     },
     "execution_count": 7,
     "metadata": {},
     "output_type": "execute_result"
    },
    {
     "data": {
      "image/png": "[encoded data removed]",
      "text/plain": [
       "<Figure size 432x288 with 1 Axes>"
      ]
     },
     "metadata": {
      "needs_background": "light"
     },
     "output_type": "display_data"
    }
   ],
   "source": [
    "df.sale_amount.plot()"
   ]
  },
  {
   "cell_type": "code",
   "execution_count": 8,
   "id": "0338ebc3",
   "metadata": {},
   "outputs": [],
   "source": [
    "by_date = df.groupby('sale_date').sale_amount.sum().reset_index()"
   ]
  },
  {
   "cell_type": "code",
   "execution_count": 9,
   "id": "80ff2eed",
   "metadata": {},
   "outputs": [
    {
     "data": {
      "text/plain": [
       "<AxesSubplot:xlabel='sale_date'>"
      ]
     },
     "execution_count": 9,
     "metadata": {},
     "output_type": "execute_result"
    },
    {
     "data": {
      "image/png": "[encoded data removed]",
      "text/plain": [
       "<Figure size 432x288 with 1 Axes>"
      ]
     },
     "metadata": {
      "needs_background": "light"
     },
     "output_type": "display_data"
    }
   ],
   "source": [
    "by_date.plot(x='sale_date', y='sale_amount')"
   ]
  },
  {
   "cell_type": "code",
   "execution_count": 10,
   "id": "6fa52ee0",
   "metadata": {},
   "outputs": [],
   "source": [
    "# Set index\n",
    "df = df.set_index('sale_date').sort_index()"
   ]
  },
  {
   "cell_type": "code",
   "execution_count": 11,
   "id": "2a5858d2",
   "metadata": {},
   "outputs": [],
   "source": [
    "df['month'] = df.index.month_name()"
   ]
  },
  {
   "cell_type": "code",
   "execution_count": 12,
   "id": "87fb3ede",
   "metadata": {},
   "outputs": [],
   "source": [
    "df['day_of_week'] = df.index.day_name()"
   ]
  },
  {
   "cell_type": "code",
   "execution_count": 13,
   "id": "fcc493e1",
   "metadata": {},
   "outputs": [],
   "source": [
    "df['sales_total'] = df.sale_amount * df.item_price"
   ]
  },
  {
   "cell_type": "code",
   "execution_count": 14,
   "id": "5dc92855",
   "metadata": {},
   "outputs": [
    {
     "data": {
      "text/html": [
       "<div>\n",
       "<style scoped>\n",
       "    .dataframe tbody tr th:only-of-type {\n",
       "        vertical-align: middle;\n",
       "    }\n",
       "\n",
       "    .dataframe tbody tr th {\n",
       "        vertical-align: top;\n",
       "    }\n",
       "\n",
       "    .dataframe thead th {\n",
       "        text-align: right;\n",
       "    }\n",
       "</style>\n",
       "<table border=\"1\" class=\"dataframe\">\n",
       "  <thead>\n",
       "    <tr style=\"text-align: right;\">\n",
       "      <th></th>\n",
       "      <th>item_brand</th>\n",
       "      <th>item_id</th>\n",
       "      <th>item_name</th>\n",
       "      <th>item_price</th>\n",
       "      <th>item_upc12</th>\n",
       "      <th>item_upc14</th>\n",
       "      <th>sale_amount</th>\n",
       "      <th>sale_id</th>\n",
       "      <th>store_address</th>\n",
       "      <th>store_city</th>\n",
       "      <th>store_id</th>\n",
       "      <th>store_state</th>\n",
       "      <th>store_zipcode</th>\n",
       "      <th>month</th>\n",
       "      <th>day_of_week</th>\n",
       "      <th>sales_total</th>\n",
       "    </tr>\n",
       "    <tr>\n",
       "      <th>sale_date</th>\n",
       "      <th></th>\n",
       "      <th></th>\n",
       "      <th></th>\n",
       "      <th></th>\n",
       "      <th></th>\n",
       "      <th></th>\n",
       "      <th></th>\n",
       "      <th></th>\n",
       "      <th></th>\n",
       "      <th></th>\n",
       "      <th></th>\n",
       "      <th></th>\n",
       "      <th></th>\n",
       "      <th></th>\n",
       "      <th></th>\n",
       "      <th></th>\n",
       "    </tr>\n",
       "  </thead>\n",
       "  <tbody>\n",
       "    <tr>\n",
       "      <th>2013-01-01 00:00:00+00:00</th>\n",
       "      <td>Riceland</td>\n",
       "      <td>1</td>\n",
       "      <td>Riceland American Jazmine Rice</td>\n",
       "      <td>0.84</td>\n",
       "      <td>35200264013</td>\n",
       "      <td>35200264013</td>\n",
       "      <td>13.0</td>\n",
       "      <td>1</td>\n",
       "      <td>12125 Alamo Ranch Pkwy</td>\n",
       "      <td>San Antonio</td>\n",
       "      <td>1</td>\n",
       "      <td>TX</td>\n",
       "      <td>78253</td>\n",
       "      <td>January</td>\n",
       "      <td>Tuesday</td>\n",
       "      <td>10.92</td>\n",
       "    </tr>\n",
       "    <tr>\n",
       "      <th>2013-01-01 00:00:00+00:00</th>\n",
       "      <td>Ducal</td>\n",
       "      <td>17</td>\n",
       "      <td>Ducal Refried Red Beans</td>\n",
       "      <td>1.16</td>\n",
       "      <td>88313590791</td>\n",
       "      <td>88313590791</td>\n",
       "      <td>26.0</td>\n",
       "      <td>295813</td>\n",
       "      <td>2118 Fredericksburg Rdj</td>\n",
       "      <td>San Antonio</td>\n",
       "      <td>3</td>\n",
       "      <td>TX</td>\n",
       "      <td>78201</td>\n",
       "      <td>January</td>\n",
       "      <td>Tuesday</td>\n",
       "      <td>30.16</td>\n",
       "    </tr>\n",
       "    <tr>\n",
       "      <th>2013-01-01 00:00:00+00:00</th>\n",
       "      <td>Twinings Of London</td>\n",
       "      <td>7</td>\n",
       "      <td>Twinings Of London Classics Lady Grey Tea - 20 Ct</td>\n",
       "      <td>9.64</td>\n",
       "      <td>70177154004</td>\n",
       "      <td>70177154004</td>\n",
       "      <td>32.0</td>\n",
       "      <td>125995</td>\n",
       "      <td>8503 NW Military Hwy</td>\n",
       "      <td>San Antonio</td>\n",
       "      <td>10</td>\n",
       "      <td>TX</td>\n",
       "      <td>78231</td>\n",
       "      <td>January</td>\n",
       "      <td>Tuesday</td>\n",
       "      <td>308.48</td>\n",
       "    </tr>\n",
       "    <tr>\n",
       "      <th>2013-01-01 00:00:00+00:00</th>\n",
       "      <td>Scotch</td>\n",
       "      <td>18</td>\n",
       "      <td>Scotch Removable Clear Mounting Squares - 35 Ct</td>\n",
       "      <td>4.39</td>\n",
       "      <td>21200725340</td>\n",
       "      <td>21200725340</td>\n",
       "      <td>45.0</td>\n",
       "      <td>314073</td>\n",
       "      <td>2118 Fredericksburg Rdj</td>\n",
       "      <td>San Antonio</td>\n",
       "      <td>3</td>\n",
       "      <td>TX</td>\n",
       "      <td>78201</td>\n",
       "      <td>January</td>\n",
       "      <td>Tuesday</td>\n",
       "      <td>197.55</td>\n",
       "    </tr>\n",
       "    <tr>\n",
       "      <th>2013-01-01 00:00:00+00:00</th>\n",
       "      <td>Careone</td>\n",
       "      <td>19</td>\n",
       "      <td>Careone Family Comb Set - 8 Ct</td>\n",
       "      <td>0.74</td>\n",
       "      <td>41520035646</td>\n",
       "      <td>41520035646</td>\n",
       "      <td>34.0</td>\n",
       "      <td>332333</td>\n",
       "      <td>2118 Fredericksburg Rdj</td>\n",
       "      <td>San Antonio</td>\n",
       "      <td>3</td>\n",
       "      <td>TX</td>\n",
       "      <td>78201</td>\n",
       "      <td>January</td>\n",
       "      <td>Tuesday</td>\n",
       "      <td>25.16</td>\n",
       "    </tr>\n",
       "  </tbody>\n",
       "</table>\n",
       "</div>"
      ],
      "text/plain": [
       "                                   item_brand  item_id  \\\n",
       "sale_date                                                \n",
       "2013-01-01 00:00:00+00:00            Riceland        1   \n",
       "2013-01-01 00:00:00+00:00               Ducal       17   \n",
       "2013-01-01 00:00:00+00:00  Twinings Of London        7   \n",
       "2013-01-01 00:00:00+00:00              Scotch       18   \n",
       "2013-01-01 00:00:00+00:00             Careone       19   \n",
       "\n",
       "                                                                   item_name  \\\n",
       "sale_date                                                                      \n",
       "2013-01-01 00:00:00+00:00                     Riceland American Jazmine Rice   \n",
       "2013-01-01 00:00:00+00:00                            Ducal Refried Red Beans   \n",
       "2013-01-01 00:00:00+00:00  Twinings Of London Classics Lady Grey Tea - 20 Ct   \n",
       "2013-01-01 00:00:00+00:00    Scotch Removable Clear Mounting Squares - 35 Ct   \n",
       "2013-01-01 00:00:00+00:00                     Careone Family Comb Set - 8 Ct   \n",
       "\n",
       "                           item_price   item_upc12   item_upc14  sale_amount  \\\n",
       "sale_date                                                                      \n",
       "2013-01-01 00:00:00+00:00        0.84  35200264013  35200264013         13.0   \n",
       "2013-01-01 00:00:00+00:00        1.16  88313590791  88313590791         26.0   \n",
       "2013-01-01 00:00:00+00:00        9.64  70177154004  70177154004         32.0   \n",
       "2013-01-01 00:00:00+00:00        4.39  21200725340  21200725340         45.0   \n",
       "2013-01-01 00:00:00+00:00        0.74  41520035646  41520035646         34.0   \n",
       "\n",
       "                           sale_id            store_address   store_city  \\\n",
       "sale_date                                                                  \n",
       "2013-01-01 00:00:00+00:00        1   12125 Alamo Ranch Pkwy  San Antonio   \n",
       "2013-01-01 00:00:00+00:00   295813  2118 Fredericksburg Rdj  San Antonio   \n",
       "2013-01-01 00:00:00+00:00   125995     8503 NW Military Hwy  San Antonio   \n",
       "2013-01-01 00:00:00+00:00   314073  2118 Fredericksburg Rdj  San Antonio   \n",
       "2013-01-01 00:00:00+00:00   332333  2118 Fredericksburg Rdj  San Antonio   \n",
       "\n",
       "                           store_id store_state  store_zipcode    month  \\\n",
       "sale_date                                                                 \n",
       "2013-01-01 00:00:00+00:00         1          TX          78253  January   \n",
       "2013-01-01 00:00:00+00:00         3          TX          78201  January   \n",
       "2013-01-01 00:00:00+00:00        10          TX          78231  January   \n",
       "2013-01-01 00:00:00+00:00         3          TX          78201  January   \n",
       "2013-01-01 00:00:00+00:00         3          TX          78201  January   \n",
       "\n",
       "                          day_of_week  sales_total  \n",
       "sale_date                                           \n",
       "2013-01-01 00:00:00+00:00     Tuesday        10.92  \n",
       "2013-01-01 00:00:00+00:00     Tuesday        30.16  \n",
       "2013-01-01 00:00:00+00:00     Tuesday       308.48  \n",
       "2013-01-01 00:00:00+00:00     Tuesday       197.55  \n",
       "2013-01-01 00:00:00+00:00     Tuesday        25.16  "
      ]
     },
     "execution_count": 14,
     "metadata": {},
     "output_type": "execute_result"
    }
   ],
   "source": [
    "df.head()"
   ]
  },
  {
   "cell_type": "markdown",
   "id": "f6d95f37",
   "metadata": {},
   "source": [
    "---\n",
    "\n",
    "Using the OPS data acquired in the Acquire exercises `opsd_germany_daily.csv`, complete the following:\n",
    "\n",
    "1. Convert date column to datetime format.  \n",
    "1. Plot the distribution of each of your variables.  \n",
    "1. Set the index to be the datetime variable.  \n",
    "1. Add a month and a year column to your dataframe.\n",
    "1. Fill any missing values.\n",
    "1. Make sure all the work that you have done above is reproducible. That is, you should put the code above into separate functions and be able to re-run the functions and get the same results."
   ]
  },
  {
   "cell_type": "code",
   "execution_count": 15,
   "id": "d8562520",
   "metadata": {},
   "outputs": [],
   "source": [
    "df = a.pd.read_csv('https://raw.githubusercontent.com/jenfly/opsd/master/opsd_germany_daily.csv')"
   ]
  },
  {
   "cell_type": "code",
   "execution_count": 16,
   "id": "54405a3a",
   "metadata": {},
   "outputs": [
    {
     "name": "stdout",
     "output_type": "stream",
     "text": [
      "<class 'pandas.core.frame.DataFrame'>\n",
      "RangeIndex: 4383 entries, 0 to 4382\n",
      "Data columns (total 5 columns):\n",
      " #   Column       Non-Null Count  Dtype  \n",
      "---  ------       --------------  -----  \n",
      " 0   Date         4383 non-null   object \n",
      " 1   Consumption  4383 non-null   float64\n",
      " 2   Wind         2920 non-null   float64\n",
      " 3   Solar        2188 non-null   float64\n",
      " 4   Wind+Solar   2187 non-null   float64\n",
      "dtypes: float64(4), object(1)\n",
      "memory usage: 171.3+ KB\n"
     ]
    }
   ],
   "source": [
    "df.info()"
   ]
  },
  {
   "cell_type": "code",
   "execution_count": 17,
   "id": "b1c7af5b",
   "metadata": {},
   "outputs": [
    {
     "data": {
      "text/html": [
       "<div>\n",
       "<style scoped>\n",
       "    .dataframe tbody tr th:only-of-type {\n",
       "        vertical-align: middle;\n",
       "    }\n",
       "\n",
       "    .dataframe tbody tr th {\n",
       "        vertical-align: top;\n",
       "    }\n",
       "\n",
       "    .dataframe thead th {\n",
       "        text-align: right;\n",
       "    }\n",
       "</style>\n",
       "<table border=\"1\" class=\"dataframe\">\n",
       "  <thead>\n",
       "    <tr style=\"text-align: right;\">\n",
       "      <th></th>\n",
       "      <th>Date</th>\n",
       "      <th>Consumption</th>\n",
       "      <th>Wind</th>\n",
       "      <th>Solar</th>\n",
       "      <th>Wind+Solar</th>\n",
       "    </tr>\n",
       "  </thead>\n",
       "  <tbody>\n",
       "    <tr>\n",
       "      <th>0</th>\n",
       "      <td>2006-01-01</td>\n",
       "      <td>1069.184</td>\n",
       "      <td>NaN</td>\n",
       "      <td>NaN</td>\n",
       "      <td>NaN</td>\n",
       "    </tr>\n",
       "    <tr>\n",
       "      <th>1</th>\n",
       "      <td>2006-01-02</td>\n",
       "      <td>1380.521</td>\n",
       "      <td>NaN</td>\n",
       "      <td>NaN</td>\n",
       "      <td>NaN</td>\n",
       "    </tr>\n",
       "    <tr>\n",
       "      <th>2</th>\n",
       "      <td>2006-01-03</td>\n",
       "      <td>1442.533</td>\n",
       "      <td>NaN</td>\n",
       "      <td>NaN</td>\n",
       "      <td>NaN</td>\n",
       "    </tr>\n",
       "    <tr>\n",
       "      <th>3</th>\n",
       "      <td>2006-01-04</td>\n",
       "      <td>1457.217</td>\n",
       "      <td>NaN</td>\n",
       "      <td>NaN</td>\n",
       "      <td>NaN</td>\n",
       "    </tr>\n",
       "    <tr>\n",
       "      <th>4</th>\n",
       "      <td>2006-01-05</td>\n",
       "      <td>1477.131</td>\n",
       "      <td>NaN</td>\n",
       "      <td>NaN</td>\n",
       "      <td>NaN</td>\n",
       "    </tr>\n",
       "  </tbody>\n",
       "</table>\n",
       "</div>"
      ],
      "text/plain": [
       "         Date  Consumption  Wind  Solar  Wind+Solar\n",
       "0  2006-01-01     1069.184   NaN    NaN         NaN\n",
       "1  2006-01-02     1380.521   NaN    NaN         NaN\n",
       "2  2006-01-03     1442.533   NaN    NaN         NaN\n",
       "3  2006-01-04     1457.217   NaN    NaN         NaN\n",
       "4  2006-01-05     1477.131   NaN    NaN         NaN"
      ]
     },
     "execution_count": 17,
     "metadata": {},
     "output_type": "execute_result"
    }
   ],
   "source": [
    "df.head()"
   ]
  },
  {
   "cell_type": "code",
   "execution_count": 18,
   "id": "c35b1940",
   "metadata": {},
   "outputs": [],
   "source": [
    "df.Date= pd.to_datetime(df.Date)"
   ]
  },
  {
   "cell_type": "code",
   "execution_count": 19,
   "id": "a7993871",
   "metadata": {},
   "outputs": [
    {
     "data": {
      "image/png": "[encoded data removed]",
      "text/plain": [
       "<Figure size 432x288 with 1 Axes>"
      ]
     },
     "metadata": {
      "needs_background": "light"
     },
     "output_type": "display_data"
    },
    {
     "data": {
      "image/png": "[encoded data removed]",
      "text/plain": [
       "<Figure size 432x288 with 1 Axes>"
      ]
     },
     "metadata": {
      "needs_background": "light"
     },
     "output_type": "display_data"
    },
    {
     "data": {
      "image/png": "[encoded data removed]",
      "text/plain": [
       "<Figure size 432x288 with 1 Axes>"
      ]
     },
     "metadata": {
      "needs_background": "light"
     },
     "output_type": "display_data"
    },
    {
     "data": {
      "image/png": "[encoded data removed]",
      "text/plain": [
       "<Figure size 432x288 with 1 Axes>"
      ]
     },
     "metadata": {
      "needs_background": "light"
     },
     "output_type": "display_data"
    },
    {
     "data": {
      "image/png": "[encoded data removed]",
      "text/plain": [
       "<Figure size 432x288 with 1 Axes>"
      ]
     },
     "metadata": {
      "needs_background": "light"
     },
     "output_type": "display_data"
    }
   ],
   "source": [
    "for col in df.columns:\n",
    "    plt.title(f'{col} Distribution')\n",
    "    df[col].plot()\n",
    "    plt.show()"
   ]
  },
  {
   "cell_type": "code",
   "execution_count": 20,
   "id": "a5135ebe",
   "metadata": {},
   "outputs": [],
   "source": [
    "df = df.set_index('Date').sort_index()"
   ]
  },
  {
   "cell_type": "code",
   "execution_count": 21,
   "id": "5040315b",
   "metadata": {},
   "outputs": [],
   "source": [
    "df['year'] = df.index.year\n",
    "df['month'] = df.index.month_name()"
   ]
  },
  {
   "cell_type": "code",
   "execution_count": 22,
   "id": "54828c50",
   "metadata": {},
   "outputs": [
    {
     "data": {
      "text/plain": [
       "Date\n",
       "2006-01-01        NaN\n",
       "2006-01-02        NaN\n",
       "2006-01-03        NaN\n",
       "2006-01-04        NaN\n",
       "2006-01-05        NaN\n",
       "               ...   \n",
       "2017-12-27    394.507\n",
       "2017-12-28    506.424\n",
       "2017-12-29    584.277\n",
       "2017-12-30    721.247\n",
       "2017-12-31    721.176\n",
       "Name: Wind, Length: 4383, dtype: float64"
      ]
     },
     "execution_count": 22,
     "metadata": {},
     "output_type": "execute_result"
    }
   ],
   "source": [
    "df.Wind"
   ]
  },
  {
   "cell_type": "markdown",
   "id": "67aba5bd",
   "metadata": {},
   "source": [
    "Since wind and solar do not account for all energy consumption, i will fill missing values for wind and solar columns with 0. Then, I will fill missing Wind+Solar values with the total from the wind and solar columns."
   ]
  },
  {
   "cell_type": "code",
   "execution_count": 23,
   "id": "a0a06c9d",
   "metadata": {},
   "outputs": [],
   "source": [
    "df.Wind.fillna(0, inplace=True)\n",
    "df.Solar.fillna(0, inplace=True)\n",
    "df['Wind+Solar'] = df.Wind + df.Solar"
   ]
  },
  {
   "cell_type": "code",
   "execution_count": 24,
   "id": "26a00649",
   "metadata": {},
   "outputs": [
    {
     "data": {
      "text/html": [
       "<div>\n",
       "<style scoped>\n",
       "    .dataframe tbody tr th:only-of-type {\n",
       "        vertical-align: middle;\n",
       "    }\n",
       "\n",
       "    .dataframe tbody tr th {\n",
       "        vertical-align: top;\n",
       "    }\n",
       "\n",
       "    .dataframe thead th {\n",
       "        text-align: right;\n",
       "    }\n",
       "</style>\n",
       "<table border=\"1\" class=\"dataframe\">\n",
       "  <thead>\n",
       "    <tr style=\"text-align: right;\">\n",
       "      <th></th>\n",
       "      <th>Consumption</th>\n",
       "      <th>Wind</th>\n",
       "      <th>Solar</th>\n",
       "      <th>Wind+Solar</th>\n",
       "      <th>year</th>\n",
       "      <th>month</th>\n",
       "    </tr>\n",
       "    <tr>\n",
       "      <th>Date</th>\n",
       "      <th></th>\n",
       "      <th></th>\n",
       "      <th></th>\n",
       "      <th></th>\n",
       "      <th></th>\n",
       "      <th></th>\n",
       "    </tr>\n",
       "  </thead>\n",
       "  <tbody>\n",
       "    <tr>\n",
       "      <th>2013-03-22</th>\n",
       "      <td>1383.170</td>\n",
       "      <td>208.389</td>\n",
       "      <td>105.826</td>\n",
       "      <td>314.215</td>\n",
       "      <td>2013</td>\n",
       "      <td>March</td>\n",
       "    </tr>\n",
       "    <tr>\n",
       "      <th>2012-06-26</th>\n",
       "      <td>1280.592</td>\n",
       "      <td>173.629</td>\n",
       "      <td>133.302</td>\n",
       "      <td>306.931</td>\n",
       "      <td>2012</td>\n",
       "      <td>June</td>\n",
       "    </tr>\n",
       "    <tr>\n",
       "      <th>2012-10-21</th>\n",
       "      <td>1060.869</td>\n",
       "      <td>55.262</td>\n",
       "      <td>66.725</td>\n",
       "      <td>121.987</td>\n",
       "      <td>2012</td>\n",
       "      <td>October</td>\n",
       "    </tr>\n",
       "    <tr>\n",
       "      <th>2012-02-22</th>\n",
       "      <td>1453.507</td>\n",
       "      <td>287.635</td>\n",
       "      <td>74.904</td>\n",
       "      <td>362.539</td>\n",
       "      <td>2012</td>\n",
       "      <td>February</td>\n",
       "    </tr>\n",
       "    <tr>\n",
       "      <th>2017-04-26</th>\n",
       "      <td>1488.591</td>\n",
       "      <td>54.224</td>\n",
       "      <td>104.559</td>\n",
       "      <td>158.783</td>\n",
       "      <td>2017</td>\n",
       "      <td>April</td>\n",
       "    </tr>\n",
       "    <tr>\n",
       "      <th>2015-01-10</th>\n",
       "      <td>1331.448</td>\n",
       "      <td>634.675</td>\n",
       "      <td>20.477</td>\n",
       "      <td>655.152</td>\n",
       "      <td>2015</td>\n",
       "      <td>January</td>\n",
       "    </tr>\n",
       "    <tr>\n",
       "      <th>2009-06-10</th>\n",
       "      <td>1255.982</td>\n",
       "      <td>0.000</td>\n",
       "      <td>0.000</td>\n",
       "      <td>0.000</td>\n",
       "      <td>2009</td>\n",
       "      <td>June</td>\n",
       "    </tr>\n",
       "    <tr>\n",
       "      <th>2012-03-06</th>\n",
       "      <td>1433.166</td>\n",
       "      <td>61.690</td>\n",
       "      <td>83.002</td>\n",
       "      <td>144.692</td>\n",
       "      <td>2012</td>\n",
       "      <td>March</td>\n",
       "    </tr>\n",
       "    <tr>\n",
       "      <th>2013-10-03</th>\n",
       "      <td>1114.298</td>\n",
       "      <td>307.258</td>\n",
       "      <td>134.028</td>\n",
       "      <td>441.286</td>\n",
       "      <td>2013</td>\n",
       "      <td>October</td>\n",
       "    </tr>\n",
       "    <tr>\n",
       "      <th>2014-03-25</th>\n",
       "      <td>1521.834</td>\n",
       "      <td>39.216</td>\n",
       "      <td>107.847</td>\n",
       "      <td>147.063</td>\n",
       "      <td>2014</td>\n",
       "      <td>March</td>\n",
       "    </tr>\n",
       "    <tr>\n",
       "      <th>2006-02-21</th>\n",
       "      <td>1544.112</td>\n",
       "      <td>0.000</td>\n",
       "      <td>0.000</td>\n",
       "      <td>0.000</td>\n",
       "      <td>2006</td>\n",
       "      <td>February</td>\n",
       "    </tr>\n",
       "    <tr>\n",
       "      <th>2008-03-13</th>\n",
       "      <td>1573.429</td>\n",
       "      <td>0.000</td>\n",
       "      <td>0.000</td>\n",
       "      <td>0.000</td>\n",
       "      <td>2008</td>\n",
       "      <td>March</td>\n",
       "    </tr>\n",
       "    <tr>\n",
       "      <th>2011-01-18</th>\n",
       "      <td>1520.566</td>\n",
       "      <td>75.149</td>\n",
       "      <td>0.000</td>\n",
       "      <td>75.149</td>\n",
       "      <td>2011</td>\n",
       "      <td>January</td>\n",
       "    </tr>\n",
       "    <tr>\n",
       "      <th>2015-08-25</th>\n",
       "      <td>1400.484</td>\n",
       "      <td>395.609</td>\n",
       "      <td>127.304</td>\n",
       "      <td>522.913</td>\n",
       "      <td>2015</td>\n",
       "      <td>August</td>\n",
       "    </tr>\n",
       "    <tr>\n",
       "      <th>2006-07-12</th>\n",
       "      <td>1358.226</td>\n",
       "      <td>0.000</td>\n",
       "      <td>0.000</td>\n",
       "      <td>0.000</td>\n",
       "      <td>2006</td>\n",
       "      <td>July</td>\n",
       "    </tr>\n",
       "    <tr>\n",
       "      <th>2007-09-01</th>\n",
       "      <td>1193.544</td>\n",
       "      <td>0.000</td>\n",
       "      <td>0.000</td>\n",
       "      <td>0.000</td>\n",
       "      <td>2007</td>\n",
       "      <td>September</td>\n",
       "    </tr>\n",
       "    <tr>\n",
       "      <th>2012-07-01</th>\n",
       "      <td>980.695</td>\n",
       "      <td>86.751</td>\n",
       "      <td>90.800</td>\n",
       "      <td>177.551</td>\n",
       "      <td>2012</td>\n",
       "      <td>July</td>\n",
       "    </tr>\n",
       "    <tr>\n",
       "      <th>2007-12-05</th>\n",
       "      <td>1591.552</td>\n",
       "      <td>0.000</td>\n",
       "      <td>0.000</td>\n",
       "      <td>0.000</td>\n",
       "      <td>2007</td>\n",
       "      <td>December</td>\n",
       "    </tr>\n",
       "    <tr>\n",
       "      <th>2011-02-20</th>\n",
       "      <td>1174.911</td>\n",
       "      <td>155.118</td>\n",
       "      <td>0.000</td>\n",
       "      <td>155.118</td>\n",
       "      <td>2011</td>\n",
       "      <td>February</td>\n",
       "    </tr>\n",
       "    <tr>\n",
       "      <th>2013-01-06</th>\n",
       "      <td>1035.316</td>\n",
       "      <td>154.668</td>\n",
       "      <td>4.634</td>\n",
       "      <td>159.302</td>\n",
       "      <td>2013</td>\n",
       "      <td>January</td>\n",
       "    </tr>\n",
       "  </tbody>\n",
       "</table>\n",
       "</div>"
      ],
      "text/plain": [
       "            Consumption     Wind    Solar  Wind+Solar  year      month\n",
       "Date                                                                  \n",
       "2013-03-22     1383.170  208.389  105.826     314.215  2013      March\n",
       "2012-06-26     1280.592  173.629  133.302     306.931  2012       June\n",
       "2012-10-21     1060.869   55.262   66.725     121.987  2012    October\n",
       "2012-02-22     1453.507  287.635   74.904     362.539  2012   February\n",
       "2017-04-26     1488.591   54.224  104.559     158.783  2017      April\n",
       "2015-01-10     1331.448  634.675   20.477     655.152  2015    January\n",
       "2009-06-10     1255.982    0.000    0.000       0.000  2009       June\n",
       "2012-03-06     1433.166   61.690   83.002     144.692  2012      March\n",
       "2013-10-03     1114.298  307.258  134.028     441.286  2013    October\n",
       "2014-03-25     1521.834   39.216  107.847     147.063  2014      March\n",
       "2006-02-21     1544.112    0.000    0.000       0.000  2006   February\n",
       "2008-03-13     1573.429    0.000    0.000       0.000  2008      March\n",
       "2011-01-18     1520.566   75.149    0.000      75.149  2011    January\n",
       "2015-08-25     1400.484  395.609  127.304     522.913  2015     August\n",
       "2006-07-12     1358.226    0.000    0.000       0.000  2006       July\n",
       "2007-09-01     1193.544    0.000    0.000       0.000  2007  September\n",
       "2012-07-01      980.695   86.751   90.800     177.551  2012       July\n",
       "2007-12-05     1591.552    0.000    0.000       0.000  2007   December\n",
       "2011-02-20     1174.911  155.118    0.000     155.118  2011   February\n",
       "2013-01-06     1035.316  154.668    4.634     159.302  2013    January"
      ]
     },
     "execution_count": 24,
     "metadata": {},
     "output_type": "execute_result"
    }
   ],
   "source": [
    "df.sample(20)"
   ]
  },
  {
   "cell_type": "code",
   "execution_count": null,
   "id": "88861eb9",
   "metadata": {},
   "outputs": [],
   "source": []
  }
 ],
 "metadata": {
  "kernelspec": {
   "display_name": "Python 3",
   "language": "python",
   "name": "python3"
  },
  "language_info": {
   "codemirror_mode": {
    "name": "ipython",
    "version": 3
   },
   "file_extension": ".py",
   "mimetype": "text/x-python",
   "name": "python",
   "nbconvert_exporter": "python",
   "pygments_lexer": "ipython3",
   "version": "3.8.8"
  }
 },
 "nbformat": 4,
 "nbformat_minor": 5
}
