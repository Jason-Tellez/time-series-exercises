{
 "cells": [
  {
   "cell_type": "markdown",
   "metadata": {},
   "source": [
    "# Prepare\n",
    "\n",
    "#### Now that we understand datetimes in pandas a bit better, let's utilize that knowledge to make some initial observations and address any issues in our data set\n",
    "\n",
    "    - We will be working with the store data that we acquired previously and should be available in your acquire.py file."
   ]
  },
  {
   "cell_type": "code",
   "execution_count": 1,
   "metadata": {},
   "outputs": [],
   "source": [
    "# tabular data manipulation\n",
    "import numpy as np\n",
    "import pandas as pd"
   ]
  },
  {
   "cell_type": "code",
   "execution_count": 7,
   "metadata": {},
   "outputs": [],
   "source": [
    "# datetime utilities\n",
    "from datetime import timedelta, datetime\n",
    "\n",
    "# visualization\n",
    "import matplotlib.pyplot as plt\n",
    "\n",
    "# no yelling in the library\n",
    "import warnings\n",
    "warnings.filterwarnings(\"ignore\")\n",
    "\n",
    "# our acquire script\n",
    "import acquire as a"
   ]
  },
  {
   "cell_type": "markdown",
   "metadata": {},
   "source": [
    "### Acquire \n",
    "\n",
    "Let's pick up where we left off.  We have our data from the api cached locally, so it will only take a moment."
   ]
  },
  {
   "cell_type": "code",
   "execution_count": 9,
   "metadata": {
    "scrolled": true
   },
   "outputs": [
    {
     "data": {
      "text/html": [
       "<div>\n",
       "<style scoped>\n",
       "    .dataframe tbody tr th:only-of-type {\n",
       "        vertical-align: middle;\n",
       "    }\n",
       "\n",
       "    .dataframe tbody tr th {\n",
       "        vertical-align: top;\n",
       "    }\n",
       "\n",
       "    .dataframe thead th {\n",
       "        text-align: right;\n",
       "    }\n",
       "</style>\n",
       "<table border=\"1\" class=\"dataframe\">\n",
       "  <thead>\n",
       "    <tr style=\"text-align: right;\">\n",
       "      <th></th>\n",
       "      <th>store_address</th>\n",
       "      <th>store_city</th>\n",
       "      <th>store_id</th>\n",
       "      <th>store_state</th>\n",
       "      <th>store_zipcode</th>\n",
       "    </tr>\n",
       "  </thead>\n",
       "  <tbody>\n",
       "    <tr>\n",
       "      <th>0</th>\n",
       "      <td>12125 Alamo Ranch Pkwy</td>\n",
       "      <td>San Antonio</td>\n",
       "      <td>1</td>\n",
       "      <td>TX</td>\n",
       "      <td>78253</td>\n",
       "    </tr>\n",
       "    <tr>\n",
       "      <th>1</th>\n",
       "      <td>9255 FM 471 West</td>\n",
       "      <td>San Antonio</td>\n",
       "      <td>2</td>\n",
       "      <td>TX</td>\n",
       "      <td>78251</td>\n",
       "    </tr>\n",
       "  </tbody>\n",
       "</table>\n",
       "</div>"
      ],
      "text/plain": [
       "            store_address   store_city  store_id store_state store_zipcode\n",
       "0  12125 Alamo Ranch Pkwy  San Antonio         1          TX         78253\n",
       "1        9255 FM 471 West  San Antonio         2          TX         78251"
      ]
     },
     "execution_count": 9,
     "metadata": {},
     "output_type": "execute_result"
    }
   ],
   "source": [
    "store_df = a.get_retail_df('https://python.zgulde.net/api/v1/stores', 'stores')\n",
    "store_df.head(2)"
   ]
  },
  {
   "cell_type": "code",
   "execution_count": 10,
   "metadata": {},
   "outputs": [
    {
     "data": {
      "text/html": [
       "<div>\n",
       "<style scoped>\n",
       "    .dataframe tbody tr th:only-of-type {\n",
       "        vertical-align: middle;\n",
       "    }\n",
       "\n",
       "    .dataframe tbody tr th {\n",
       "        vertical-align: top;\n",
       "    }\n",
       "\n",
       "    .dataframe thead th {\n",
       "        text-align: right;\n",
       "    }\n",
       "</style>\n",
       "<table border=\"1\" class=\"dataframe\">\n",
       "  <thead>\n",
       "    <tr style=\"text-align: right;\">\n",
       "      <th></th>\n",
       "      <th>item_brand</th>\n",
       "      <th>item_id</th>\n",
       "      <th>item_name</th>\n",
       "      <th>item_price</th>\n",
       "      <th>item_upc12</th>\n",
       "      <th>item_upc14</th>\n",
       "    </tr>\n",
       "  </thead>\n",
       "  <tbody>\n",
       "    <tr>\n",
       "      <th>0</th>\n",
       "      <td>Riceland</td>\n",
       "      <td>1</td>\n",
       "      <td>Riceland American Jazmine Rice</td>\n",
       "      <td>0.84</td>\n",
       "      <td>35200264013</td>\n",
       "      <td>35200264013</td>\n",
       "    </tr>\n",
       "    <tr>\n",
       "      <th>1</th>\n",
       "      <td>Caress</td>\n",
       "      <td>2</td>\n",
       "      <td>Caress Velvet Bliss Ultra Silkening Beauty Bar...</td>\n",
       "      <td>6.44</td>\n",
       "      <td>11111065925</td>\n",
       "      <td>11111065925</td>\n",
       "    </tr>\n",
       "  </tbody>\n",
       "</table>\n",
       "</div>"
      ],
      "text/plain": [
       "  item_brand  item_id                                          item_name  \\\n",
       "0   Riceland        1                     Riceland American Jazmine Rice   \n",
       "1     Caress        2  Caress Velvet Bliss Ultra Silkening Beauty Bar...   \n",
       "\n",
       "   item_price   item_upc12   item_upc14  \n",
       "0        0.84  35200264013  35200264013  \n",
       "1        6.44  11111065925  11111065925  "
      ]
     },
     "execution_count": 10,
     "metadata": {},
     "output_type": "execute_result"
    }
   ],
   "source": [
    "items_df = a.get_retail_df('https://python.zgulde.net/api/v1/items', 'items')\n",
    "items_df.head(2)"
   ]
  },
  {
   "cell_type": "code",
   "execution_count": 12,
   "metadata": {},
   "outputs": [
    {
     "data": {
      "text/html": [
       "<div>\n",
       "<style scoped>\n",
       "    .dataframe tbody tr th:only-of-type {\n",
       "        vertical-align: middle;\n",
       "    }\n",
       "\n",
       "    .dataframe tbody tr th {\n",
       "        vertical-align: top;\n",
       "    }\n",
       "\n",
       "    .dataframe thead th {\n",
       "        text-align: right;\n",
       "    }\n",
       "</style>\n",
       "<table border=\"1\" class=\"dataframe\">\n",
       "  <thead>\n",
       "    <tr style=\"text-align: right;\">\n",
       "      <th></th>\n",
       "      <th>item</th>\n",
       "      <th>sale_amount</th>\n",
       "      <th>sale_date</th>\n",
       "      <th>sale_id</th>\n",
       "      <th>store</th>\n",
       "    </tr>\n",
       "  </thead>\n",
       "  <tbody>\n",
       "    <tr>\n",
       "      <th>0</th>\n",
       "      <td>1</td>\n",
       "      <td>13.0</td>\n",
       "      <td>Tue, 01 Jan 2013 00:00:00 GMT</td>\n",
       "      <td>1</td>\n",
       "      <td>1</td>\n",
       "    </tr>\n",
       "    <tr>\n",
       "      <th>1</th>\n",
       "      <td>1</td>\n",
       "      <td>11.0</td>\n",
       "      <td>Wed, 02 Jan 2013 00:00:00 GMT</td>\n",
       "      <td>2</td>\n",
       "      <td>1</td>\n",
       "    </tr>\n",
       "  </tbody>\n",
       "</table>\n",
       "</div>"
      ],
      "text/plain": [
       "   item  sale_amount                      sale_date  sale_id  store\n",
       "0     1         13.0  Tue, 01 Jan 2013 00:00:00 GMT        1      1\n",
       "1     1         11.0  Wed, 02 Jan 2013 00:00:00 GMT        2      1"
      ]
     },
     "execution_count": 12,
     "metadata": {},
     "output_type": "execute_result"
    }
   ],
   "source": [
    "sales_df = a.get_retail_df('https://python.zgulde.net/api/v1/sales', 'sales')\n",
    "sales_df.head(2)"
   ]
  },
  {
   "cell_type": "code",
   "execution_count": 13,
   "metadata": {},
   "outputs": [],
   "source": [
    "df = items_df.merge(sales_df, \n",
    "                how='outer', \n",
    "                left_on='item_id', \n",
    "                right_on='item'\n",
    "               ).merge(store_df, \n",
    "                how='outer',\n",
    "                left_on='store',\n",
    "                right_on='store_id'\n",
    "               )"
   ]
  },
  {
   "cell_type": "code",
   "execution_count": 14,
   "metadata": {},
   "outputs": [],
   "source": [
    "df = df.drop(columns=['item', 'store'])"
   ]
  },
  {
   "cell_type": "code",
   "execution_count": 15,
   "metadata": {},
   "outputs": [
    {
     "data": {
      "text/html": [
       "<div>\n",
       "<style scoped>\n",
       "    .dataframe tbody tr th:only-of-type {\n",
       "        vertical-align: middle;\n",
       "    }\n",
       "\n",
       "    .dataframe tbody tr th {\n",
       "        vertical-align: top;\n",
       "    }\n",
       "\n",
       "    .dataframe thead th {\n",
       "        text-align: right;\n",
       "    }\n",
       "</style>\n",
       "<table border=\"1\" class=\"dataframe\">\n",
       "  <thead>\n",
       "    <tr style=\"text-align: right;\">\n",
       "      <th></th>\n",
       "      <th>item_brand</th>\n",
       "      <th>item_id</th>\n",
       "      <th>item_name</th>\n",
       "      <th>item_price</th>\n",
       "      <th>item_upc12</th>\n",
       "      <th>item_upc14</th>\n",
       "      <th>sale_amount</th>\n",
       "      <th>sale_date</th>\n",
       "      <th>sale_id</th>\n",
       "      <th>store_address</th>\n",
       "      <th>store_city</th>\n",
       "      <th>store_id</th>\n",
       "      <th>store_state</th>\n",
       "      <th>store_zipcode</th>\n",
       "    </tr>\n",
       "  </thead>\n",
       "  <tbody>\n",
       "    <tr>\n",
       "      <th>0</th>\n",
       "      <td>Riceland</td>\n",
       "      <td>1</td>\n",
       "      <td>Riceland American Jazmine Rice</td>\n",
       "      <td>0.84</td>\n",
       "      <td>35200264013</td>\n",
       "      <td>35200264013</td>\n",
       "      <td>13.0</td>\n",
       "      <td>Tue, 01 Jan 2013 00:00:00 GMT</td>\n",
       "      <td>1</td>\n",
       "      <td>12125 Alamo Ranch Pkwy</td>\n",
       "      <td>San Antonio</td>\n",
       "      <td>1</td>\n",
       "      <td>TX</td>\n",
       "      <td>78253</td>\n",
       "    </tr>\n",
       "    <tr>\n",
       "      <th>1</th>\n",
       "      <td>Riceland</td>\n",
       "      <td>1</td>\n",
       "      <td>Riceland American Jazmine Rice</td>\n",
       "      <td>0.84</td>\n",
       "      <td>35200264013</td>\n",
       "      <td>35200264013</td>\n",
       "      <td>11.0</td>\n",
       "      <td>Wed, 02 Jan 2013 00:00:00 GMT</td>\n",
       "      <td>2</td>\n",
       "      <td>12125 Alamo Ranch Pkwy</td>\n",
       "      <td>San Antonio</td>\n",
       "      <td>1</td>\n",
       "      <td>TX</td>\n",
       "      <td>78253</td>\n",
       "    </tr>\n",
       "  </tbody>\n",
       "</table>\n",
       "</div>"
      ],
      "text/plain": [
       "  item_brand  item_id                       item_name  item_price  \\\n",
       "0   Riceland        1  Riceland American Jazmine Rice        0.84   \n",
       "1   Riceland        1  Riceland American Jazmine Rice        0.84   \n",
       "\n",
       "    item_upc12   item_upc14  sale_amount                      sale_date  \\\n",
       "0  35200264013  35200264013         13.0  Tue, 01 Jan 2013 00:00:00 GMT   \n",
       "1  35200264013  35200264013         11.0  Wed, 02 Jan 2013 00:00:00 GMT   \n",
       "\n",
       "   sale_id           store_address   store_city  store_id store_state  \\\n",
       "0        1  12125 Alamo Ranch Pkwy  San Antonio         1          TX   \n",
       "1        2  12125 Alamo Ranch Pkwy  San Antonio         1          TX   \n",
       "\n",
       "  store_zipcode  \n",
       "0         78253  \n",
       "1         78253  "
      ]
     },
     "execution_count": 15,
     "metadata": {},
     "output_type": "execute_result"
    }
   ],
   "source": [
    "df.head(2)"
   ]
  },
  {
   "cell_type": "markdown",
   "metadata": {},
   "source": [
    "## Summarize\n",
    "\n",
    "Let's go through and get a run-down of our data as we are accustomed to in this step.\n",
    "\n",
    "We will:\n",
    "\n",
    "    - Get the shape of our data\n",
    "    - investigate for null values\n",
    "    - contextualize the shape of our data"
   ]
  },
  {
   "cell_type": "code",
   "execution_count": 16,
   "metadata": {},
   "outputs": [
    {
     "data": {
      "text/plain": [
       "(913000, 14)"
      ]
     },
     "execution_count": 16,
     "metadata": {},
     "output_type": "execute_result"
    }
   ],
   "source": [
    "# number of rows and columns\n",
    "df.shape"
   ]
  },
  {
   "cell_type": "code",
   "execution_count": 17,
   "metadata": {},
   "outputs": [
    {
     "data": {
      "text/plain": [
       "item_brand       0\n",
       "item_id          0\n",
       "item_name        0\n",
       "item_price       0\n",
       "item_upc12       0\n",
       "item_upc14       0\n",
       "sale_amount      0\n",
       "sale_date        0\n",
       "sale_id          0\n",
       "store_address    0\n",
       "store_city       0\n",
       "store_id         0\n",
       "store_state      0\n",
       "store_zipcode    0\n",
       "dtype: int64"
      ]
     },
     "execution_count": 17,
     "metadata": {},
     "output_type": "execute_result"
    }
   ],
   "source": [
    "# null values by column\n",
    "df.isnull().sum()"
   ]
  },
  {
   "cell_type": "code",
   "execution_count": 19,
   "metadata": {},
   "outputs": [
    {
     "data": {
      "text/plain": [
       "50"
      ]
     },
     "execution_count": 19,
     "metadata": {},
     "output_type": "execute_result"
    }
   ],
   "source": [
    "# unique values of items\n",
    "df.item_id.nunique()"
   ]
  },
  {
   "cell_type": "code",
   "execution_count": 20,
   "metadata": {
    "jupyter": {
     "source_hidden": true
    },
    "tags": []
   },
   "outputs": [
    {
     "data": {
      "text/plain": [
       "array([ 1,  2,  3,  4,  5,  6,  7,  8,  9, 10])"
      ]
     },
     "execution_count": 20,
     "metadata": {},
     "output_type": "execute_result"
    }
   ],
   "source": [
    "# unique values of  store_id\n",
    "df.store_id.unique() "
   ]
  },
  {
   "cell_type": "code",
   "execution_count": 21,
   "metadata": {
    "jupyter": {
     "source_hidden": true
    },
    "tags": []
   },
   "outputs": [
    {
     "data": {
      "text/plain": [
       "1826"
      ]
     },
     "execution_count": 21,
     "metadata": {},
     "output_type": "execute_result"
    }
   ],
   "source": [
    "# number of unique sales dates\n",
    "df.sale_date.nunique() "
   ]
  },
  {
   "cell_type": "code",
   "execution_count": 24,
   "metadata": {},
   "outputs": [
    {
     "data": {
      "text/plain": [
       "('Fri, 01 Apr 2016 00:00:00 GMT', 'Wed, 31 May 2017 00:00:00 GMT')"
      ]
     },
     "execution_count": 24,
     "metadata": {},
     "output_type": "execute_result"
    }
   ],
   "source": [
    "# minimum date? maximum date?\n",
    "df.sale_date.min(), \\\n",
    "df.sale_date.max()"
   ]
  },
  {
   "cell_type": "code",
   "execution_count": 25,
   "metadata": {},
   "outputs": [
    {
     "name": "stdout",
     "output_type": "stream",
     "text": [
      "<class 'pandas.core.frame.DataFrame'>\n",
      "Int64Index: 913000 entries, 0 to 912999\n",
      "Data columns (total 14 columns):\n",
      " #   Column         Non-Null Count   Dtype  \n",
      "---  ------         --------------   -----  \n",
      " 0   item_brand     913000 non-null  object \n",
      " 1   item_id        913000 non-null  int64  \n",
      " 2   item_name      913000 non-null  object \n",
      " 3   item_price     913000 non-null  float64\n",
      " 4   item_upc12     913000 non-null  object \n",
      " 5   item_upc14     913000 non-null  object \n",
      " 6   sale_amount    913000 non-null  float64\n",
      " 7   sale_date      913000 non-null  object \n",
      " 8   sale_id        913000 non-null  int64  \n",
      " 9   store_address  913000 non-null  object \n",
      " 10  store_city     913000 non-null  object \n",
      " 11  store_id       913000 non-null  int64  \n",
      " 12  store_state    913000 non-null  object \n",
      " 13  store_zipcode  913000 non-null  object \n",
      "dtypes: float64(2), int64(3), object(9)\n",
      "memory usage: 104.5+ MB\n"
     ]
    }
   ],
   "source": [
    "df.info()"
   ]
  },
  {
   "cell_type": "code",
   "execution_count": 26,
   "metadata": {},
   "outputs": [],
   "source": [
    "# Describe, info"
   ]
  },
  {
   "cell_type": "code",
   "execution_count": 27,
   "metadata": {},
   "outputs": [
    {
     "data": {
      "text/html": [
       "<div>\n",
       "<style scoped>\n",
       "    .dataframe tbody tr th:only-of-type {\n",
       "        vertical-align: middle;\n",
       "    }\n",
       "\n",
       "    .dataframe tbody tr th {\n",
       "        vertical-align: top;\n",
       "    }\n",
       "\n",
       "    .dataframe thead th {\n",
       "        text-align: right;\n",
       "    }\n",
       "</style>\n",
       "<table border=\"1\" class=\"dataframe\">\n",
       "  <thead>\n",
       "    <tr style=\"text-align: right;\">\n",
       "      <th></th>\n",
       "      <th>item_id</th>\n",
       "      <th>item_price</th>\n",
       "      <th>sale_amount</th>\n",
       "      <th>sale_id</th>\n",
       "      <th>store_id</th>\n",
       "    </tr>\n",
       "  </thead>\n",
       "  <tbody>\n",
       "    <tr>\n",
       "      <th>count</th>\n",
       "      <td>913000.000000</td>\n",
       "      <td>913000.000000</td>\n",
       "      <td>913000.000000</td>\n",
       "      <td>913000.000000</td>\n",
       "      <td>913000.000000</td>\n",
       "    </tr>\n",
       "    <tr>\n",
       "      <th>mean</th>\n",
       "      <td>25.500000</td>\n",
       "      <td>5.160400</td>\n",
       "      <td>52.250287</td>\n",
       "      <td>456500.500000</td>\n",
       "      <td>5.500000</td>\n",
       "    </tr>\n",
       "    <tr>\n",
       "      <th>std</th>\n",
       "      <td>14.430878</td>\n",
       "      <td>2.737764</td>\n",
       "      <td>28.801144</td>\n",
       "      <td>263560.542223</td>\n",
       "      <td>2.872283</td>\n",
       "    </tr>\n",
       "    <tr>\n",
       "      <th>min</th>\n",
       "      <td>1.000000</td>\n",
       "      <td>0.600000</td>\n",
       "      <td>0.000000</td>\n",
       "      <td>1.000000</td>\n",
       "      <td>1.000000</td>\n",
       "    </tr>\n",
       "    <tr>\n",
       "      <th>25%</th>\n",
       "      <td>13.000000</td>\n",
       "      <td>2.970000</td>\n",
       "      <td>30.000000</td>\n",
       "      <td>228250.750000</td>\n",
       "      <td>3.000000</td>\n",
       "    </tr>\n",
       "    <tr>\n",
       "      <th>50%</th>\n",
       "      <td>25.500000</td>\n",
       "      <td>5.195000</td>\n",
       "      <td>47.000000</td>\n",
       "      <td>456500.500000</td>\n",
       "      <td>5.500000</td>\n",
       "    </tr>\n",
       "    <tr>\n",
       "      <th>75%</th>\n",
       "      <td>38.000000</td>\n",
       "      <td>7.520000</td>\n",
       "      <td>70.000000</td>\n",
       "      <td>684750.250000</td>\n",
       "      <td>8.000000</td>\n",
       "    </tr>\n",
       "    <tr>\n",
       "      <th>max</th>\n",
       "      <td>50.000000</td>\n",
       "      <td>9.640000</td>\n",
       "      <td>231.000000</td>\n",
       "      <td>913000.000000</td>\n",
       "      <td>10.000000</td>\n",
       "    </tr>\n",
       "  </tbody>\n",
       "</table>\n",
       "</div>"
      ],
      "text/plain": [
       "             item_id     item_price    sale_amount        sale_id  \\\n",
       "count  913000.000000  913000.000000  913000.000000  913000.000000   \n",
       "mean       25.500000       5.160400      52.250287  456500.500000   \n",
       "std        14.430878       2.737764      28.801144  263560.542223   \n",
       "min         1.000000       0.600000       0.000000       1.000000   \n",
       "25%        13.000000       2.970000      30.000000  228250.750000   \n",
       "50%        25.500000       5.195000      47.000000  456500.500000   \n",
       "75%        38.000000       7.520000      70.000000  684750.250000   \n",
       "max        50.000000       9.640000     231.000000  913000.000000   \n",
       "\n",
       "            store_id  \n",
       "count  913000.000000  \n",
       "mean        5.500000  \n",
       "std         2.872283  \n",
       "min         1.000000  \n",
       "25%         3.000000  \n",
       "50%         5.500000  \n",
       "75%         8.000000  \n",
       "max        10.000000  "
      ]
     },
     "execution_count": 27,
     "metadata": {},
     "output_type": "execute_result"
    }
   ],
   "source": [
    "df.describe()"
   ]
  },
  {
   "cell_type": "markdown",
   "metadata": {},
   "source": [
    "Takeaways so far:\n",
    "\n"
   ]
  },
  {
   "cell_type": "markdown",
   "metadata": {},
   "source": [
    "## Clean and Prepare\n",
    "\n",
    "It looks like we don't have the right dates in min and max as a result of our datetime formatting.\n",
    "Let's use what we learned yesterday as part of our cleaning and investigation now to address this.\n",
    "\n",
    "We'll transform the column to a datetime, then we'll re-establish our index as the date."
   ]
  },
  {
   "cell_type": "code",
   "execution_count": 29,
   "metadata": {},
   "outputs": [],
   "source": [
    "# Reassign the sale_date column to be a datetime type\n",
    "# Our current format includes the implication of a time, so we'll take an extra measure:\n",
    "# .dt.date will take just the date property out of our converted datetime \n",
    "# (keep in mind .srtftime is also available for date formatting)\n",
    "\n",
    "df.sale_date = pd.to_datetime(df.sale_date)"
   ]
  },
  {
   "cell_type": "markdown",
   "metadata": {},
   "source": [
    "Set the index, and sort so we can ensure that its in chronological order."
   ]
  },
  {
   "cell_type": "code",
   "execution_count": 30,
   "metadata": {},
   "outputs": [],
   "source": [
    "df = df.set_index(\"sale_date\").sort_index()"
   ]
  },
  {
   "cell_type": "markdown",
   "metadata": {},
   "source": [
    "### Defining Our Observations\n",
    "\n",
    "Here we ask ourselves what each row (or observation) represents or measures."
   ]
  },
  {
   "cell_type": "code",
   "execution_count": 31,
   "metadata": {},
   "outputs": [
    {
     "data": {
      "text/html": [
       "<div>\n",
       "<style scoped>\n",
       "    .dataframe tbody tr th:only-of-type {\n",
       "        vertical-align: middle;\n",
       "    }\n",
       "\n",
       "    .dataframe tbody tr th {\n",
       "        vertical-align: top;\n",
       "    }\n",
       "\n",
       "    .dataframe thead th {\n",
       "        text-align: right;\n",
       "    }\n",
       "</style>\n",
       "<table border=\"1\" class=\"dataframe\">\n",
       "  <thead>\n",
       "    <tr style=\"text-align: right;\">\n",
       "      <th></th>\n",
       "      <th>item_brand</th>\n",
       "      <th>item_id</th>\n",
       "      <th>item_name</th>\n",
       "      <th>item_price</th>\n",
       "      <th>item_upc12</th>\n",
       "      <th>item_upc14</th>\n",
       "      <th>sale_amount</th>\n",
       "      <th>sale_id</th>\n",
       "      <th>store_address</th>\n",
       "      <th>store_city</th>\n",
       "      <th>store_id</th>\n",
       "      <th>store_state</th>\n",
       "      <th>store_zipcode</th>\n",
       "    </tr>\n",
       "    <tr>\n",
       "      <th>sale_date</th>\n",
       "      <th></th>\n",
       "      <th></th>\n",
       "      <th></th>\n",
       "      <th></th>\n",
       "      <th></th>\n",
       "      <th></th>\n",
       "      <th></th>\n",
       "      <th></th>\n",
       "      <th></th>\n",
       "      <th></th>\n",
       "      <th></th>\n",
       "      <th></th>\n",
       "      <th></th>\n",
       "    </tr>\n",
       "  </thead>\n",
       "  <tbody>\n",
       "    <tr>\n",
       "      <th>2013-01-01 00:00:00+00:00</th>\n",
       "      <td>Riceland</td>\n",
       "      <td>1</td>\n",
       "      <td>Riceland American Jazmine Rice</td>\n",
       "      <td>0.84</td>\n",
       "      <td>35200264013</td>\n",
       "      <td>35200264013</td>\n",
       "      <td>13.0</td>\n",
       "      <td>1</td>\n",
       "      <td>12125 Alamo Ranch Pkwy</td>\n",
       "      <td>San Antonio</td>\n",
       "      <td>1</td>\n",
       "      <td>TX</td>\n",
       "      <td>78253</td>\n",
       "    </tr>\n",
       "    <tr>\n",
       "      <th>2013-01-01 00:00:00+00:00</th>\n",
       "      <td>Ducal</td>\n",
       "      <td>17</td>\n",
       "      <td>Ducal Refried Red Beans</td>\n",
       "      <td>1.16</td>\n",
       "      <td>88313590791</td>\n",
       "      <td>88313590791</td>\n",
       "      <td>26.0</td>\n",
       "      <td>295813</td>\n",
       "      <td>2118 Fredericksburg Rdj</td>\n",
       "      <td>San Antonio</td>\n",
       "      <td>3</td>\n",
       "      <td>TX</td>\n",
       "      <td>78201</td>\n",
       "    </tr>\n",
       "  </tbody>\n",
       "</table>\n",
       "</div>"
      ],
      "text/plain": [
       "                          item_brand  item_id                       item_name  \\\n",
       "sale_date                                                                       \n",
       "2013-01-01 00:00:00+00:00   Riceland        1  Riceland American Jazmine Rice   \n",
       "2013-01-01 00:00:00+00:00      Ducal       17         Ducal Refried Red Beans   \n",
       "\n",
       "                           item_price   item_upc12   item_upc14  sale_amount  \\\n",
       "sale_date                                                                      \n",
       "2013-01-01 00:00:00+00:00        0.84  35200264013  35200264013         13.0   \n",
       "2013-01-01 00:00:00+00:00        1.16  88313590791  88313590791         26.0   \n",
       "\n",
       "                           sale_id            store_address   store_city  \\\n",
       "sale_date                                                                  \n",
       "2013-01-01 00:00:00+00:00        1   12125 Alamo Ranch Pkwy  San Antonio   \n",
       "2013-01-01 00:00:00+00:00   295813  2118 Fredericksburg Rdj  San Antonio   \n",
       "\n",
       "                           store_id store_state store_zipcode  \n",
       "sale_date                                                      \n",
       "2013-01-01 00:00:00+00:00         1          TX         78253  \n",
       "2013-01-01 00:00:00+00:00         3          TX         78201  "
      ]
     },
     "execution_count": 31,
     "metadata": {},
     "output_type": "execute_result"
    }
   ],
   "source": [
    "df.head(2)"
   ]
  },
  {
   "cell_type": "markdown",
   "metadata": {},
   "source": [
    "#### We observe here that the individual rows are not unique by their date.  What does each row represent?\n",
    "It looks like we have differing pairs of stores and items on each row -- it seems likely that each row is an instance of an individual sale occuring at a specific store for a specific item.\n",
    "\n",
    "We can see that we have a sale_id column, which warms toward that hunch.  Let's see if those values repeat at all:"
   ]
  },
  {
   "cell_type": "code",
   "execution_count": 32,
   "metadata": {},
   "outputs": [
    {
     "data": {
      "text/plain": [
       "(913000, 913000)"
      ]
     },
     "execution_count": 32,
     "metadata": {},
     "output_type": "execute_result"
    }
   ],
   "source": [
    "df.shape[0], df.sale_id.nunique()"
   ]
  },
  {
   "cell_type": "markdown",
   "metadata": {},
   "source": [
    "It looks like each sale id does uniquely identify each row and each row is a combination of one item sold at one store. So each observation is the quantity of items sold on one day, in one store. "
   ]
  },
  {
   "cell_type": "markdown",
   "metadata": {},
   "source": [
    "### Let's get to know our data a bit better\n",
    "- Currently, the dataframe has one row per sold item, but what if we need more or less granularity?\n",
    "- Let's get to know our data then consider what it means to define our observation in different ways.\n",
    "- We'll also look at different time-windows for our data.\n",
    "\n",
    "#### Plot Target Variable Over Time\n",
    "Generate a quick plot of our target variable over time, the variable we wish to forecast or predict. \n",
    "We will first aggregate the `sale_amount` by `sale_date` using `sum()`, i.e. group by sale_date and sum the sale_amount. We will then do a quick plot of this aggregated data. "
   ]
  },
  {
   "cell_type": "code",
   "execution_count": 37,
   "metadata": {},
   "outputs": [],
   "source": [
    "by_date = df.groupby('sale_date').sale_amount.sum().reset_index()"
   ]
  },
  {
   "cell_type": "code",
   "execution_count": 38,
   "metadata": {},
   "outputs": [
    {
     "data": {
      "text/html": [
       "<div>\n",
       "<style scoped>\n",
       "    .dataframe tbody tr th:only-of-type {\n",
       "        vertical-align: middle;\n",
       "    }\n",
       "\n",
       "    .dataframe tbody tr th {\n",
       "        vertical-align: top;\n",
       "    }\n",
       "\n",
       "    .dataframe thead th {\n",
       "        text-align: right;\n",
       "    }\n",
       "</style>\n",
       "<table border=\"1\" class=\"dataframe\">\n",
       "  <thead>\n",
       "    <tr style=\"text-align: right;\">\n",
       "      <th></th>\n",
       "      <th>sale_date</th>\n",
       "      <th>sale_amount</th>\n",
       "    </tr>\n",
       "  </thead>\n",
       "  <tbody>\n",
       "    <tr>\n",
       "      <th>0</th>\n",
       "      <td>2013-01-01 00:00:00+00:00</td>\n",
       "      <td>13696.0</td>\n",
       "    </tr>\n",
       "    <tr>\n",
       "      <th>1</th>\n",
       "      <td>2013-01-02 00:00:00+00:00</td>\n",
       "      <td>13678.0</td>\n",
       "    </tr>\n",
       "    <tr>\n",
       "      <th>2</th>\n",
       "      <td>2013-01-03 00:00:00+00:00</td>\n",
       "      <td>14488.0</td>\n",
       "    </tr>\n",
       "    <tr>\n",
       "      <th>3</th>\n",
       "      <td>2013-01-04 00:00:00+00:00</td>\n",
       "      <td>15677.0</td>\n",
       "    </tr>\n",
       "    <tr>\n",
       "      <th>4</th>\n",
       "      <td>2013-01-05 00:00:00+00:00</td>\n",
       "      <td>16237.0</td>\n",
       "    </tr>\n",
       "  </tbody>\n",
       "</table>\n",
       "</div>"
      ],
      "text/plain": [
       "                  sale_date  sale_amount\n",
       "0 2013-01-01 00:00:00+00:00      13696.0\n",
       "1 2013-01-02 00:00:00+00:00      13678.0\n",
       "2 2013-01-03 00:00:00+00:00      14488.0\n",
       "3 2013-01-04 00:00:00+00:00      15677.0\n",
       "4 2013-01-05 00:00:00+00:00      16237.0"
      ]
     },
     "execution_count": 38,
     "metadata": {},
     "output_type": "execute_result"
    }
   ],
   "source": [
    "by_date.head()"
   ]
  },
  {
   "cell_type": "code",
   "execution_count": 41,
   "metadata": {
    "jupyter": {
     "source_hidden": true
    },
    "tags": []
   },
   "outputs": [
    {
     "data": {
      "text/plain": [
       "<AxesSubplot:xlabel='sale_date'>"
      ]
     },
     "execution_count": 41,
     "metadata": {},
     "output_type": "execute_result"
    },
    {
     "data": {
      "image/png": "[encoded data removed]",
      "text/plain": [
       "<Figure size 432x288 with 1 Axes>"
      ]
     },
     "metadata": {
      "needs_background": "light"
     },
     "output_type": "display_data"
    }
   ],
   "source": [
    "by_date.plot(x='sale_date', y='sale_amount')"
   ]
  },
  {
   "cell_type": "markdown",
   "metadata": {},
   "source": [
    "Is each store equally represented in this dataset?"
   ]
  },
  {
   "cell_type": "code",
   "execution_count": 42,
   "metadata": {},
   "outputs": [
    {
     "data": {
      "text/plain": [
       "10    91300\n",
       "9     91300\n",
       "8     91300\n",
       "7     91300\n",
       "6     91300\n",
       "5     91300\n",
       "4     91300\n",
       "3     91300\n",
       "2     91300\n",
       "1     91300\n",
       "Name: store_id, dtype: int64"
      ]
     },
     "execution_count": 42,
     "metadata": {},
     "output_type": "execute_result"
    }
   ],
   "source": [
    "# Number of observations per store = number of item-transactions per store.\n",
    "df.store_id.value_counts()"
   ]
  },
  {
   "cell_type": "markdown",
   "metadata": {},
   "source": [
    "Is each item equally represented in this dataset?"
   ]
  },
  {
   "cell_type": "code",
   "execution_count": 44,
   "metadata": {
    "tags": []
   },
   "outputs": [
    {
     "data": {
      "text/plain": [
       "1     18260\n",
       "2     18260\n",
       "3     18260\n",
       "4     18260\n",
       "5     18260\n",
       "6     18260\n",
       "7     18260\n",
       "8     18260\n",
       "9     18260\n",
       "10    18260\n",
       "11    18260\n",
       "12    18260\n",
       "13    18260\n",
       "14    18260\n",
       "15    18260\n",
       "16    18260\n",
       "17    18260\n",
       "18    18260\n",
       "19    18260\n",
       "20    18260\n",
       "21    18260\n",
       "22    18260\n",
       "23    18260\n",
       "24    18260\n",
       "25    18260\n",
       "26    18260\n",
       "27    18260\n",
       "28    18260\n",
       "29    18260\n",
       "30    18260\n",
       "31    18260\n",
       "32    18260\n",
       "33    18260\n",
       "34    18260\n",
       "35    18260\n",
       "36    18260\n",
       "37    18260\n",
       "38    18260\n",
       "39    18260\n",
       "40    18260\n",
       "41    18260\n",
       "42    18260\n",
       "43    18260\n",
       "44    18260\n",
       "45    18260\n",
       "46    18260\n",
       "47    18260\n",
       "48    18260\n",
       "49    18260\n",
       "50    18260\n",
       "Name: item_id, dtype: int64"
      ]
     },
     "execution_count": 44,
     "metadata": {},
     "output_type": "execute_result"
    }
   ],
   "source": [
    "df.item_id.value_counts().sort_index()"
   ]
  },
  {
   "cell_type": "markdown",
   "metadata": {},
   "source": [
    "It looks like both items and stores are equally represented, that is, each store shows up the same number of times and so does each item."
   ]
  },
  {
   "cell_type": "markdown",
   "metadata": {},
   "source": [
    "### Explore Stores + Items\n",
    "\n",
    "There are 50 different items and there were 18,260 sales for each item. \n",
    "\n",
    "We will explore the data behind the unique combinations of store & item.   \n",
    "For example, what was the first sale date for each store/item combination?\n",
    "What was the last sale date?   \n",
    "On how many different days was each item sold at each store?   \n",
    "\n",
    "First, we will want to reset the index so that sale_date becomes a feature we can use in an aggregate.   \n",
    "Next, we will group by store_id and item_id. \n",
    "Finally, we will perform the aggregates needed to answer the questions. \n",
    "\n",
    "Let's find the first sale date for each store/item combination:"
   ]
  },
  {
   "cell_type": "code",
   "execution_count": 45,
   "metadata": {
    "jupyter": {
     "source_hidden": true
    },
    "tags": []
   },
   "outputs": [
    {
     "data": {
      "text/plain": [
       "store_id  item_id\n",
       "1         1         2013-01-01 00:00:00+00:00\n",
       "          2         2013-01-01 00:00:00+00:00\n",
       "          3         2013-01-01 00:00:00+00:00\n",
       "          4         2013-01-01 00:00:00+00:00\n",
       "          5         2013-01-01 00:00:00+00:00\n",
       "Name: sale_date, dtype: datetime64[ns, UTC]"
      ]
     },
     "execution_count": 45,
     "metadata": {},
     "output_type": "execute_result"
    }
   ],
   "source": [
    "# do a couple things here:\n",
    "# reset the index so we can reference it as a column\n",
    "# aggregate by the store and item pairing\n",
    "# use min() method to assert all item/store values start on the same date\n",
    "first_sale = df.reset_index().groupby(['store_id', 'item_id']).sale_date.min()\n",
    "first_sale.head()"
   ]
  },
  {
   "cell_type": "markdown",
   "metadata": {},
   "source": [
    "Is Jan 1, 2013 the first date for all store/item combinations?"
   ]
  },
  {
   "cell_type": "code",
   "execution_count": 46,
   "metadata": {
    "tags": []
   },
   "outputs": [
    {
     "data": {
      "text/plain": [
       "<DatetimeArray>\n",
       "['2013-01-01 00:00:00+00:00']\n",
       "Length: 1, dtype: datetime64[ns, UTC]"
      ]
     },
     "execution_count": 46,
     "metadata": {},
     "output_type": "execute_result"
    }
   ],
   "source": [
    "# get the unique dates from first_sale_per_storeitem\n",
    "first_sale.unique() # if there's only one unique value, then YES!"
   ]
  },
  {
   "cell_type": "code",
   "execution_count": 49,
   "metadata": {},
   "outputs": [],
   "source": [
    "# What is the last (i.e. most recent) sale date for each store/item combination?"
   ]
  },
  {
   "cell_type": "code",
   "execution_count": 50,
   "metadata": {},
   "outputs": [
    {
     "data": {
      "text/plain": [
       "store_id  item_id\n",
       "1         1         2017-12-31 00:00:00+00:00\n",
       "          2         2017-12-31 00:00:00+00:00\n",
       "          3         2017-12-31 00:00:00+00:00\n",
       "          4         2017-12-31 00:00:00+00:00\n",
       "          5         2017-12-31 00:00:00+00:00\n",
       "Name: sale_date, dtype: datetime64[ns, UTC]"
      ]
     },
     "execution_count": 50,
     "metadata": {},
     "output_type": "execute_result"
    }
   ],
   "source": [
    "last_sale = df.reset_index().groupby(['store_id', 'item_id']).sale_date.max()\n",
    "last_sale.head()"
   ]
  },
  {
   "cell_type": "markdown",
   "metadata": {},
   "source": [
    "Is Dec 31, 2107 the last date for all store/item combinations? "
   ]
  },
  {
   "cell_type": "code",
   "execution_count": 51,
   "metadata": {
    "jupyter": {
     "source_hidden": true
    },
    "tags": []
   },
   "outputs": [
    {
     "name": "stdout",
     "output_type": "stream",
     "text": [
      "december 31 2017 is the last date for all store/item pairs\n"
     ]
    }
   ],
   "source": [
    "if last_sale.nunique() == 1:\n",
    "    print('december 31 2017 is the last date for all store/item pairs') # if there's only one unique value, then YES!"
   ]
  },
  {
   "cell_type": "markdown",
   "metadata": {},
   "source": [
    "On how many different days was each item sold at each store?"
   ]
  },
  {
   "cell_type": "code",
   "execution_count": 52,
   "metadata": {
    "jupyter": {
     "source_hidden": true
    },
    "tags": []
   },
   "outputs": [
    {
     "data": {
      "text/plain": [
       "store_id  item_id\n",
       "1         1          1826\n",
       "          2          1826\n",
       "          3          1826\n",
       "          4          1826\n",
       "          5          1826\n",
       "Name: sale_date, dtype: int64"
      ]
     },
     "execution_count": 52,
     "metadata": {},
     "output_type": "execute_result"
    }
   ],
   "source": [
    "days_per_store_per_item = df.reset_index().groupby(['store_id', 'item_id']).sale_date.nunique()\n",
    "days_per_store_per_item.head()"
   ]
  },
  {
   "cell_type": "markdown",
   "metadata": {},
   "source": [
    "Did every store sell at least one of every item on every day in the data's time span? "
   ]
  },
  {
   "cell_type": "code",
   "execution_count": 53,
   "metadata": {
    "jupyter": {
     "source_hidden": true
    },
    "tags": []
   },
   "outputs": [
    {
     "data": {
      "text/plain": [
       "array([1826])"
      ]
     },
     "execution_count": 53,
     "metadata": {},
     "output_type": "execute_result"
    }
   ],
   "source": [
    "# If there's only one unique value in the list, then YES!\n",
    "# every store sold every item on every one of the 1826 days in our data history.\n",
    "days_per_store_per_item.unique()"
   ]
  },
  {
   "cell_type": "markdown",
   "metadata": {},
   "source": [
    "## Check for time gaps in the data\n",
    "\n",
    "While there might not be nulls present in our data, the time observations may leave a gap that we need to be able to detect. We can check the number of rows vs. the number of days that should exist between the minimum and maximum dates to see if there are any missing days."
   ]
  },
  {
   "cell_type": "code",
   "execution_count": 54,
   "metadata": {
    "jupyter": {
     "source_hidden": true
    },
    "tags": []
   },
   "outputs": [
    {
     "data": {
      "text/html": [
       "<div>\n",
       "<style scoped>\n",
       "    .dataframe tbody tr th:only-of-type {\n",
       "        vertical-align: middle;\n",
       "    }\n",
       "\n",
       "    .dataframe tbody tr th {\n",
       "        vertical-align: top;\n",
       "    }\n",
       "\n",
       "    .dataframe thead th {\n",
       "        text-align: right;\n",
       "    }\n",
       "</style>\n",
       "<table border=\"1\" class=\"dataframe\">\n",
       "  <thead>\n",
       "    <tr style=\"text-align: right;\">\n",
       "      <th></th>\n",
       "      <th>item_brand</th>\n",
       "      <th>item_id</th>\n",
       "      <th>item_name</th>\n",
       "      <th>item_price</th>\n",
       "      <th>item_upc12</th>\n",
       "      <th>item_upc14</th>\n",
       "      <th>sale_amount</th>\n",
       "      <th>sale_id</th>\n",
       "      <th>store_address</th>\n",
       "      <th>store_city</th>\n",
       "      <th>store_id</th>\n",
       "      <th>store_state</th>\n",
       "      <th>store_zipcode</th>\n",
       "    </tr>\n",
       "    <tr>\n",
       "      <th>sale_date</th>\n",
       "      <th></th>\n",
       "      <th></th>\n",
       "      <th></th>\n",
       "      <th></th>\n",
       "      <th></th>\n",
       "      <th></th>\n",
       "      <th></th>\n",
       "      <th></th>\n",
       "      <th></th>\n",
       "      <th></th>\n",
       "      <th></th>\n",
       "      <th></th>\n",
       "      <th></th>\n",
       "    </tr>\n",
       "  </thead>\n",
       "  <tbody>\n",
       "    <tr>\n",
       "      <th>2013-01-01 00:00:00+00:00</th>\n",
       "      <td>Riceland</td>\n",
       "      <td>1</td>\n",
       "      <td>Riceland American Jazmine Rice</td>\n",
       "      <td>0.84</td>\n",
       "      <td>35200264013</td>\n",
       "      <td>35200264013</td>\n",
       "      <td>13.0</td>\n",
       "      <td>1</td>\n",
       "      <td>12125 Alamo Ranch Pkwy</td>\n",
       "      <td>San Antonio</td>\n",
       "      <td>1</td>\n",
       "      <td>TX</td>\n",
       "      <td>78253</td>\n",
       "    </tr>\n",
       "    <tr>\n",
       "      <th>2013-01-01 00:00:00+00:00</th>\n",
       "      <td>Ducal</td>\n",
       "      <td>17</td>\n",
       "      <td>Ducal Refried Red Beans</td>\n",
       "      <td>1.16</td>\n",
       "      <td>88313590791</td>\n",
       "      <td>88313590791</td>\n",
       "      <td>26.0</td>\n",
       "      <td>295813</td>\n",
       "      <td>2118 Fredericksburg Rdj</td>\n",
       "      <td>San Antonio</td>\n",
       "      <td>3</td>\n",
       "      <td>TX</td>\n",
       "      <td>78201</td>\n",
       "    </tr>\n",
       "    <tr>\n",
       "      <th>2013-01-01 00:00:00+00:00</th>\n",
       "      <td>Twinings Of London</td>\n",
       "      <td>7</td>\n",
       "      <td>Twinings Of London Classics Lady Grey Tea - 20 Ct</td>\n",
       "      <td>9.64</td>\n",
       "      <td>70177154004</td>\n",
       "      <td>70177154004</td>\n",
       "      <td>32.0</td>\n",
       "      <td>125995</td>\n",
       "      <td>8503 NW Military Hwy</td>\n",
       "      <td>San Antonio</td>\n",
       "      <td>10</td>\n",
       "      <td>TX</td>\n",
       "      <td>78231</td>\n",
       "    </tr>\n",
       "    <tr>\n",
       "      <th>2013-01-01 00:00:00+00:00</th>\n",
       "      <td>Scotch</td>\n",
       "      <td>18</td>\n",
       "      <td>Scotch Removable Clear Mounting Squares - 35 Ct</td>\n",
       "      <td>4.39</td>\n",
       "      <td>21200725340</td>\n",
       "      <td>21200725340</td>\n",
       "      <td>45.0</td>\n",
       "      <td>314073</td>\n",
       "      <td>2118 Fredericksburg Rdj</td>\n",
       "      <td>San Antonio</td>\n",
       "      <td>3</td>\n",
       "      <td>TX</td>\n",
       "      <td>78201</td>\n",
       "    </tr>\n",
       "    <tr>\n",
       "      <th>2013-01-01 00:00:00+00:00</th>\n",
       "      <td>Careone</td>\n",
       "      <td>19</td>\n",
       "      <td>Careone Family Comb Set - 8 Ct</td>\n",
       "      <td>0.74</td>\n",
       "      <td>41520035646</td>\n",
       "      <td>41520035646</td>\n",
       "      <td>34.0</td>\n",
       "      <td>332333</td>\n",
       "      <td>2118 Fredericksburg Rdj</td>\n",
       "      <td>San Antonio</td>\n",
       "      <td>3</td>\n",
       "      <td>TX</td>\n",
       "      <td>78201</td>\n",
       "    </tr>\n",
       "  </tbody>\n",
       "</table>\n",
       "</div>"
      ],
      "text/plain": [
       "                                   item_brand  item_id  \\\n",
       "sale_date                                                \n",
       "2013-01-01 00:00:00+00:00            Riceland        1   \n",
       "2013-01-01 00:00:00+00:00               Ducal       17   \n",
       "2013-01-01 00:00:00+00:00  Twinings Of London        7   \n",
       "2013-01-01 00:00:00+00:00              Scotch       18   \n",
       "2013-01-01 00:00:00+00:00             Careone       19   \n",
       "\n",
       "                                                                   item_name  \\\n",
       "sale_date                                                                      \n",
       "2013-01-01 00:00:00+00:00                     Riceland American Jazmine Rice   \n",
       "2013-01-01 00:00:00+00:00                            Ducal Refried Red Beans   \n",
       "2013-01-01 00:00:00+00:00  Twinings Of London Classics Lady Grey Tea - 20 Ct   \n",
       "2013-01-01 00:00:00+00:00    Scotch Removable Clear Mounting Squares - 35 Ct   \n",
       "2013-01-01 00:00:00+00:00                     Careone Family Comb Set - 8 Ct   \n",
       "\n",
       "                           item_price   item_upc12   item_upc14  sale_amount  \\\n",
       "sale_date                                                                      \n",
       "2013-01-01 00:00:00+00:00        0.84  35200264013  35200264013         13.0   \n",
       "2013-01-01 00:00:00+00:00        1.16  88313590791  88313590791         26.0   \n",
       "2013-01-01 00:00:00+00:00        9.64  70177154004  70177154004         32.0   \n",
       "2013-01-01 00:00:00+00:00        4.39  21200725340  21200725340         45.0   \n",
       "2013-01-01 00:00:00+00:00        0.74  41520035646  41520035646         34.0   \n",
       "\n",
       "                           sale_id            store_address   store_city  \\\n",
       "sale_date                                                                  \n",
       "2013-01-01 00:00:00+00:00        1   12125 Alamo Ranch Pkwy  San Antonio   \n",
       "2013-01-01 00:00:00+00:00   295813  2118 Fredericksburg Rdj  San Antonio   \n",
       "2013-01-01 00:00:00+00:00   125995     8503 NW Military Hwy  San Antonio   \n",
       "2013-01-01 00:00:00+00:00   314073  2118 Fredericksburg Rdj  San Antonio   \n",
       "2013-01-01 00:00:00+00:00   332333  2118 Fredericksburg Rdj  San Antonio   \n",
       "\n",
       "                           store_id store_state store_zipcode  \n",
       "sale_date                                                      \n",
       "2013-01-01 00:00:00+00:00         1          TX         78253  \n",
       "2013-01-01 00:00:00+00:00         3          TX         78201  \n",
       "2013-01-01 00:00:00+00:00        10          TX         78231  \n",
       "2013-01-01 00:00:00+00:00         3          TX         78201  \n",
       "2013-01-01 00:00:00+00:00         3          TX         78201  "
      ]
     },
     "execution_count": 54,
     "metadata": {},
     "output_type": "execute_result"
    }
   ],
   "source": [
    "df.head()"
   ]
  },
  {
   "cell_type": "code",
   "execution_count": 55,
   "metadata": {
    "jupyter": {
     "source_hidden": true
    },
    "tags": []
   },
   "outputs": [
    {
     "name": "stdout",
     "output_type": "stream",
     "text": [
      "Number of rows: 1826\n",
      "Number of days between first and last day: 1826 days 00:00:00\n"
     ]
    }
   ],
   "source": [
    "print('Number of rows:', df.index.nunique())\n",
    "n_days = df.index.max() - df.index.min() + pd.Timedelta('1d')\n",
    "print(f\"Number of days between first and last day:\", n_days)"
   ]
  },
  {
   "cell_type": "markdown",
   "metadata": {},
   "source": [
    "### Reproducibility\n",
    "\n",
    "We'll now encapsulate all the preparation work that we've done into a single function, and store that function in `prepare.py` so that we can reference it again later."
   ]
  },
  {
   "cell_type": "code",
   "execution_count": 56,
   "metadata": {},
   "outputs": [],
   "source": [
    "def prep_store_data(df):\n",
    "    return df.asign(sale_date=pd.to_datetime(df.sale_date)).sort_values('sale_date').set_index('sale_date')"
   ]
  },
  {
   "attachments": {
    "image.png": {
     "image/png": "[encoded data removed]"
    }
   },
   "cell_type": "markdown",
   "metadata": {},
   "source": [
    "## Data Splitting\n",
    "\n",
    "Splitting time series data into train, test, and validate sets is a little trickier than with previous data we have looked at.\n",
    "Because the data points have an order to them, we cannot simply assign each point randomly to train, validate, or test.\n",
    "\n",
    "Ideally all splits should contain one season's worth of data. There are several methods we can use to split our time series data:\n",
    "\n",
    "- Human-based: use, for example, the last year in the dataset as test split\n",
    "- Percentage based: use the last 20% as test\n",
    "- Cross Validate: break data up into slices and use successive slices as train and test repeatedly (`sklearn.model_selection.TimeSeriesSplit`)\n",
    "\n",
    "![image.png](attachment:image.png)\n",
    "\n",
    "We'll explore data splitting in more depth in the next lesson."
   ]
  },
  {
   "cell_type": "markdown",
   "metadata": {},
   "source": [
    "## Further Reading\n",
    "\n",
    "- [Pandas Documentation: Timeseries](https://pandas.pydata.org/pandas-docs/stable/timeseries.html)\n",
    "- [Working with Time Series](https://jakevdp.github.io/PythonDataScienceHandbook/03.11-working-with-time-series.html)\n",
    "- [Pandas Reference for Time Series](https://ds.codeup.com/9-timeseries/working-with-time-series-data-with-pandas/)"
   ]
  },
  {
   "cell_type": "code",
   "execution_count": null,
   "metadata": {},
   "outputs": [],
   "source": []
  }
 ],
 "metadata": {
  "jupytext": {
   "main_language": "python",
   "text_representation": {
    "extension": ".md",
    "format_name": "markdown"
   }
  },
  "kernelspec": {
   "display_name": "Python 3",
   "language": "python",
   "name": "python3"
  },
  "language_info": {
   "codemirror_mode": {
    "name": "ipython",
    "version": 3
   },
   "file_extension": ".py",
   "mimetype": "text/x-python",
   "name": "python",
   "nbconvert_exporter": "python",
   "pygments_lexer": "ipython3",
   "version": "3.8.8"
  },
  "toc": {
   "base_numbering": 1,
   "nav_menu": {},
   "number_sections": false,
   "sideBar": false,
   "skip_h1_title": false,
   "title_cell": "Table of Contents",
   "title_sidebar": "Contents",
   "toc_cell": false,
   "toc_position": {},
   "toc_section_display": false,
   "toc_window_display": false
  }
 },
 "nbformat": 4,
 "nbformat_minor": 4
}
